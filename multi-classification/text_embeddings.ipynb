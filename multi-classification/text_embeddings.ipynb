{
 "cells": [
  {
   "cell_type": "code",
   "execution_count": 1,
   "metadata": {},
   "outputs": [
    {
     "name": "stdout",
     "output_type": "stream",
     "text": [
      "Collecting keras\n",
      "  Downloading Keras-2.4.3-py2.py3-none-any.whl (36 kB)\n",
      "Collecting pyyaml\n",
      "  Downloading PyYAML-5.4.1-cp36-cp36m-manylinux1_x86_64.whl (640 kB)\n",
      "\u001b[K     |████████████████████████████████| 640 kB 12.6 MB/s eta 0:00:01\n",
      "\u001b[?25hRequirement already satisfied: numpy>=1.9.1 in /usr/local/lib/python3.6/dist-packages (from keras) (1.19.5)\n",
      "Collecting scipy>=0.14\n",
      "  Downloading scipy-1.5.4-cp36-cp36m-manylinux1_x86_64.whl (25.9 MB)\n",
      "\u001b[K     |████████████████████████████████| 25.9 MB 17.8 MB/s eta 0:00:01\n",
      "\u001b[?25hRequirement already satisfied: h5py in /usr/local/lib/python3.6/dist-packages (from keras) (2.10.0)\n",
      "Requirement already satisfied: six in /usr/local/lib/python3.6/dist-packages (from h5py->keras) (1.15.0)\n",
      "Installing collected packages: pyyaml, scipy, keras\n",
      "Successfully installed keras-2.4.3 pyyaml-5.4.1 scipy-1.5.4\n",
      "\u001b[33mWARNING: You are using pip version 20.2.4; however, version 21.0.1 is available.\n",
      "You should consider upgrading via the '/usr/bin/python3 -m pip install --upgrade pip' command.\u001b[0m\n"
     ]
    }
   ],
   "source": [
    "import sys\n",
    "!{sys.executable} -m pip install keras"
   ]
  },
  {
   "cell_type": "code",
   "execution_count": 2,
   "metadata": {},
   "outputs": [
    {
     "name": "stdout",
     "output_type": "stream",
     "text": [
      "[name: \"/device:CPU:0\"\n",
      "device_type: \"CPU\"\n",
      "memory_limit: 268435456\n",
      "locality {\n",
      "}\n",
      "incarnation: 2647013400781154472\n",
      ", name: \"/device:GPU:0\"\n",
      "device_type: \"GPU\"\n",
      "memory_limit: 6936900416\n",
      "locality {\n",
      "  bus_id: 1\n",
      "  links {\n",
      "  }\n",
      "}\n",
      "incarnation: 5016016944458669517\n",
      "physical_device_desc: \"device: 0, name: GeForce RTX 3070, pci bus id: 0000:2d:00.0, compute capability: 8.6\"\n",
      "]\n",
      "2.4.1\n",
      "Num GPUs Available:  1\n",
      "[PhysicalDevice(name='/physical_device:GPU:0', device_type='GPU')]\n"
     ]
    }
   ],
   "source": [
    "# Verify GPU is detected\n",
    "import tensorflow as tf\n",
    "from tensorflow.python.client import device_lib\n",
    "print(device_lib.list_local_devices())\n",
    "print(tf.__version__)\n",
    "print(\"Num GPUs Available: \", len(tf.config.experimental.list_physical_devices('GPU')))\n",
    "print(tf.config.list_physical_devices('GPU'))"
   ]
  },
  {
   "cell_type": "code",
   "execution_count": 3,
   "metadata": {},
   "outputs": [
    {
     "name": "stdout",
     "output_type": "stream",
     "text": [
      "Downloading data from https://storage.googleapis.com/tensorflow/tf-keras-datasets/imdb.npz\n",
      "17465344/17464789 [==============================] - 0s 0us/step\n"
     ]
    },
    {
     "name": "stderr",
     "output_type": "stream",
     "text": [
      "<string>:6: VisibleDeprecationWarning: Creating an ndarray from ragged nested sequences (which is a list-or-tuple of lists-or-tuples-or ndarrays with different lengths or shapes) is deprecated. If you meant to do this, you must specify 'dtype=object' when creating the ndarray\n",
      "/usr/local/lib/python3.6/dist-packages/tensorflow/python/keras/datasets/imdb.py:159: VisibleDeprecationWarning: Creating an ndarray from ragged nested sequences (which is a list-or-tuple of lists-or-tuples-or ndarrays with different lengths or shapes) is deprecated. If you meant to do this, you must specify 'dtype=object' when creating the ndarray\n",
      "  x_train, y_train = np.array(xs[:idx]), np.array(labels[:idx])\n",
      "/usr/local/lib/python3.6/dist-packages/tensorflow/python/keras/datasets/imdb.py:160: VisibleDeprecationWarning: Creating an ndarray from ragged nested sequences (which is a list-or-tuple of lists-or-tuples-or ndarrays with different lengths or shapes) is deprecated. If you meant to do this, you must specify 'dtype=object' when creating the ndarray\n",
      "  x_test, y_test = np.array(xs[idx:]), np.array(labels[idx:])\n"
     ]
    }
   ],
   "source": [
    "from keras.datasets import imdb\n",
    "import numpy as np\n",
    "from keras import preprocessing\n",
    "\n",
    "max_words = 10_000\n",
    "max_length = 20\n",
    "\n",
    "(x_train, y_train), (x_test, y_test) = imdb.load_data(num_words=max_words)\n",
    "\n",
    "x_train = preprocessing.sequence.pad_sequences(x_train, maxlen=max_length)\n",
    "x_test = preprocessing.sequence.pad_sequences(x_test, maxlen=max_length)\n"
   ]
  },
  {
   "cell_type": "code",
   "execution_count": 32,
   "metadata": {},
   "outputs": [
    {
     "name": "stdout",
     "output_type": "stream",
     "text": [
      "['White Blend', 'Portuguese Red', 'Pinot Gris', 'Riesling', 'Pinot Noir', 'Tempranillo-Merlot', 'Frappato', 'Gewürztraminer', 'Gewürztraminer', 'Pinot Gris', 'Cabernet Sauvignon', 'Gewürztraminer', 'Cabernet Sauvignon', 'Nerello Mascalese', 'Chardonnay', 'Riesling', 'Malbec', 'Malbec', 'Tempranillo Blend', 'Meritage']\n",
      "[317, 700, 125, 240, 648, 513, 404, 586, 586, 125, 474, 586, 474, 9, 679, 240, 415, 415, 494, 397]\n",
      "Found 37550 unique tokens\n",
      "Found 708 unique labels\n",
      "Shape of data tensor:  (129971, 20)\n",
      "Shape of label tensor:  (129971,)\n"
     ]
    }
   ],
   "source": [
    "# Create description and label arrays from JSON file\n",
    "import json\n",
    "import numpy as np\n",
    "from keras.preprocessing.sequence import pad_sequences\n",
    "from keras.preprocessing.text import Tokenizer\n",
    "from keras.utils.np_utils import to_categorical\n",
    "\n",
    "# JSON file from https://www.kaggle.com/zynicide/wine-reviews?select=winemag-data-130k-v2.json\n",
    "with open('/tf/wine-data.json') as json_file:\n",
    "    data = json.load(json_file)\n",
    "    \n",
    "descriptions = []\n",
    "labels_string = []\n",
    "    \n",
    "for review in data:\n",
    "    descriptions.append(review['description'])\n",
    "    labels_string.append(review['variety'])\n",
    "    \n",
    "labels_set = set(labels_string)\n",
    "    \n",
    "label_mapping = { x: i for i, x in enumerate(labels_set) }\n",
    "labels = [label_mapping[label_string] for label_string in labels_string]\n",
    "print(labels_string[:20])\n",
    "print(labels[:20])\n",
    "    \n",
    "max_words = 10_000\n",
    "max_length = 20\n",
    "\n",
    "tokenizer = Tokenizer(num_words=max_words)\n",
    "tokenizer.fit_on_texts(descriptions)\n",
    "\n",
    "sequences = tokenizer.texts_to_sequences(descriptions)\n",
    "\n",
    "word_index = tokenizer.word_index\n",
    "print('Found %s unique tokens' % len(word_index))\n",
    "    \n",
    "num_labels = len(set(labels))\n",
    "print('Found %s unique labels' % len(label_mapping))\n",
    "\n",
    "padded_data = pad_sequences(sequences, maxlen=max_length)\n",
    "labels = np.asarray(labels)\n",
    "\n",
    "print('Shape of data tensor: ', padded_data.shape)\n",
    "print('Shape of label tensor: ', labels.shape)\n",
    "\n",
    "indices = np.arange(padded_data.shape[0])\n",
    "np.random.shuffle(indices)\n",
    "\n",
    "data = padded_data[indices]\n",
    "labels = labels[indices]\n",
    "one_hot_labels = to_categorical(labels)\n",
    "\n",
    "x_train = data\n",
    "y_train = one_hot_labels"
   ]
  },
  {
   "cell_type": "code",
   "execution_count": 48,
   "metadata": {},
   "outputs": [
    {
     "name": "stdout",
     "output_type": "stream",
     "text": [
      "Model: \"sequential_18\"\n",
      "_________________________________________________________________\n",
      "Layer (type)                 Output Shape              Param #   \n",
      "=================================================================\n",
      "embedding_18 (Embedding)     (None, 20, 64)            640000    \n",
      "_________________________________________________________________\n",
      "flatten_11 (Flatten)         (None, 1280)              0         \n",
      "_________________________________________________________________\n",
      "dense_20 (Dense)             (None, 708)               906948    \n",
      "=================================================================\n",
      "Total params: 1,546,948\n",
      "Trainable params: 1,546,948\n",
      "Non-trainable params: 0\n",
      "_________________________________________________________________\n",
      "Epoch 1/10\n",
      "813/813 [==============================] - 3s 3ms/step - loss: 4.1439 - acc: 0.1439 - val_loss: 3.0736 - val_acc: 0.2916\n",
      "Epoch 2/10\n",
      "813/813 [==============================] - 2s 3ms/step - loss: 2.9200 - acc: 0.3167 - val_loss: 2.8361 - val_acc: 0.3380\n",
      "Epoch 3/10\n",
      "813/813 [==============================] - 2s 3ms/step - loss: 2.6344 - acc: 0.3728 - val_loss: 2.7442 - val_acc: 0.3598\n",
      "Epoch 4/10\n",
      "813/813 [==============================] - 2s 3ms/step - loss: 2.4515 - acc: 0.4104 - val_loss: 2.6993 - val_acc: 0.3690\n",
      "Epoch 5/10\n",
      "813/813 [==============================] - 2s 3ms/step - loss: 2.2998 - acc: 0.4418 - val_loss: 2.6780 - val_acc: 0.3761\n",
      "Epoch 6/10\n",
      "813/813 [==============================] - 2s 3ms/step - loss: 2.1595 - acc: 0.4724 - val_loss: 2.6739 - val_acc: 0.3761\n",
      "Epoch 7/10\n",
      "813/813 [==============================] - 2s 3ms/step - loss: 2.0325 - acc: 0.5020 - val_loss: 2.6860 - val_acc: 0.3786\n",
      "Epoch 8/10\n",
      "813/813 [==============================] - 2s 3ms/step - loss: 1.9168 - acc: 0.5233 - val_loss: 2.7016 - val_acc: 0.3778\n",
      "Epoch 9/10\n",
      "813/813 [==============================] - 2s 3ms/step - loss: 1.8177 - acc: 0.5477 - val_loss: 2.7209 - val_acc: 0.3780\n",
      "Epoch 10/10\n",
      "813/813 [==============================] - 2s 3ms/step - loss: 1.7109 - acc: 0.5702 - val_loss: 2.7517 - val_acc: 0.3760\n"
     ]
    },
    {
     "data": {
      "image/png": "[encoded data removed]",
      "text/plain": [
       "<Figure size 432x288 with 1 Axes>"
      ]
     },
     "metadata": {
      "needs_background": "light"
     },
     "output_type": "display_data"
    }
   ],
   "source": [
    "from keras.models import Sequential\n",
    "from keras.layers import Flatten, Dense, Embedding, LSTM\n",
    "\n",
    "model = Sequential()\n",
    "\n",
    "model.add(Embedding(max_words, 64, input_length=max_length))\n",
    "model.add(Flatten())\n",
    "model.add(Dense(num_labels, activation='softmax'))\n",
    "\n",
    "model.compile(optimizer='rmsprop', loss='categorical_crossentropy', metrics=['acc'])\n",
    "model.summary()\n",
    "\n",
    "history = model.fit(\n",
    "    x_train, \n",
    "    y_train, \n",
    "    epochs=10, \n",
    "    batch_size=128,\n",
    "    validation_split=0.2)\n",
    "\n",
    "import matplotlib.pyplot as plt\n",
    "\n",
    "history_dict = history.history\n",
    "acc_values = history_dict['acc']\n",
    "validation_acc_values = history_dict['val_acc']\n",
    "\n",
    "epochs = range(1, len(acc_values) + 1)\n",
    "\n",
    "plt.plot(epochs, acc_values, 'bo', label='Training Accuracy')\n",
    "plt.plot(epochs, validation_acc_values, 'b', label='Validation Accuracy')\n",
    "plt.title('Training and Validation Accuracy')\n",
    "plt.xlabel('Epochs')\n",
    "plt.ylabel('Accuracy')\n",
    "plt.legend()\n",
    "\n",
    "plt.show()"
   ]
  },
  {
   "cell_type": "code",
   "execution_count": 75,
   "metadata": {},
   "outputs": [
    {
     "name": "stdout",
     "output_type": "stream",
     "text": [
      "Red Blend\n"
     ]
    }
   ],
   "source": [
    "# Prediction\n",
    "input_sequences = tokenizer.texts_to_sequences([ \n",
    "    \"It’s aromatic, and finishes with sleek, ripe fruit. This is grown in cool-climate Mendocino, and is a great example of modern, elegant. Grown on organic vineyards and made with patient precision, it's lithe, silky wine with awesome aromatics.\"\n",
    "])\n",
    "\n",
    "padded_data = pad_sequences(input_sequences, maxlen=max_length)\n",
    "predictions = model.predict(padded_data)\n",
    "\n",
    "predicted_label = np.argmax(predictions[0])\n",
    "\n",
    "inverted_labels = {v: k for k, v in label_mapping.items()}\n",
    "\n",
    "print(inverted_labels[predicted_label])"
   ]
  }
 ],
 "metadata": {
  "kernelspec": {
   "display_name": "Python 3",
   "language": "python",
   "name": "python3"
  },
  "language_info": {
   "codemirror_mode": {
    "name": "ipython",
    "version": 3
   },
   "file_extension": ".py",
   "mimetype": "text/x-python",
   "name": "python",
   "nbconvert_exporter": "python",
   "pygments_lexer": "ipython3",
   "version": "3.6.9"
  }
 },
 "nbformat": 4,
 "nbformat_minor": 2
}
